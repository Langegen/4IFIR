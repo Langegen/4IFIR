{
 "cells": [
  {
   "cell_type": "markdown",
   "metadata": {},
   "source": [
    "   # Convert int32 to hex\n",
    "   Converts an int32 number to its little endian hexadecimal representation.\n",
    "   \n",
    "   Args:\n",
    "   - number: The integer to convert. Assumes it fits in a signed int32.\n",
    "\n",
    "   Returns:\n",
    "   - A dictionary of strings representing big and little endian hexadecimal representation of the number."
   ]
  },
  {
   "cell_type": "code",
   "execution_count": 21,
   "metadata": {},
   "outputs": [],
   "source": [
    "import struct\n",
    "\n",
    "def int32_to_hex(number):\n",
    "    results = {}\n",
    "\n",
    "    # Convert to big endian hexadecimal\n",
    "    big_endian_hex = number.to_bytes(4, byteorder='big', signed=True).hex()\n",
    "    \n",
    "    # Convert to little endian hexadecimal\n",
    "    little_endian_hex = number.to_bytes(4, byteorder='little', signed=True).hex()\n",
    "    \n",
    "    results[\"number\"] = str(number)\n",
    "    results[\"big_endian_hex\"] = big_endian_hex\n",
    "    results[\"little_endian_hex\"] = little_endian_hex   \n",
    "    return results"
   ]
  },
  {
   "cell_type": "code",
   "execution_count": 24,
   "metadata": {},
   "outputs": [
    {
     "name": "stdout",
     "output_type": "stream",
     "text": [
      "00350c00\n"
     ]
    }
   ],
   "source": [
    "print(int32_to_hex(800000).get(\"little_endian_hex\"))"
   ]
  }
 ],
 "metadata": {
  "kernelspec": {
   "display_name": "Python 3",
   "language": "python",
   "name": "python3"
  },
  "language_info": {
   "codemirror_mode": {
    "name": "ipython",
    "version": 3
   },
   "file_extension": ".py",
   "mimetype": "text/x-python",
   "name": "python",
   "nbconvert_exporter": "python",
   "pygments_lexer": "ipython3",
   "version": "3.11.8"
  }
 },
 "nbformat": 4,
 "nbformat_minor": 2
}
